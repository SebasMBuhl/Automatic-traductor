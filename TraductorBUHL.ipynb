{
 "cells": [
  {
   "cell_type": "code",
   "execution_count": 36,
   "id": "13e9a7ec-0bc8-4850-9c50-0c45683a4d01",
   "metadata": {
    "tags": []
   },
   "outputs": [
    {
     "name": "stdin",
     "output_type": "stream",
     "text": [
      "Mensaje a traducir: Skinny Penis\n"
     ]
    },
    {
     "name": "stdout",
     "output_type": "stream",
     "text": [
      "el idioma a traducir es( pl )\n"
     ]
    },
    {
     "name": "stdin",
     "output_type": "stream",
     "text": [
      "¿A que idioma quieres traducir?(escribe el nombre en ingles) german\n"
     ]
    },
    {
     "name": "stdout",
     "output_type": "stream",
     "text": [
      "Skinny Penis\n",
      "Dünner Penis\n"
     ]
    },
    {
     "name": "stdin",
     "output_type": "stream",
     "text": [
      "Quieres hacer otra traducción?1. Si / 2. No 2\n"
     ]
    }
   ],
   "source": [
    "import sys\n",
    "\n",
    "!{sys.executable} -m pip install langdetect\n",
    "!{sys.executable} -m pip install deep-translator\n",
    "!{sys.executable} -m pip install pycountry\n",
    "#Borrar los sys despues del primer uso y reiniciar el kernel\n",
    "\n",
    "from langdetect import detect\n",
    "from deep_translator import GoogleTranslator\n",
    "import pycountry\n",
    "\n",
    "re=0\n",
    "\n",
    "def trad(text,lang,target):\n",
    "       translated = GoogleTranslator(source=(lang), target=(target.alpha_2)).translate(text)\n",
    "       print(text)\n",
    "       print(translated)\n",
    "\n",
    "while re == 0:\n",
    "    #Te pide el mensaje a traducir\n",
    "    text=(input(\"Mensaje a traducir:\"))\n",
    "    lang = detect(text)\n",
    "    print(\"el idioma a traducir es(\",lang,\")\")\n",
    "\n",
    "    idi=(input(\"¿A que idioma quieres traducir?(escribe el nombre en ingles)\"))\n",
    "    target=pycountry.languages.get(name=idi)\n",
    "\n",
    "    trad(text, lang, target)\n",
    "\n",
    "    req=input(\"Quieres hacer otra traducción?1. Si / 2. No\")\n",
    "    if req == \"2\":\n",
    "        re = 1"
   ]
  }
 ],
 "metadata": {
  "kernelspec": {
   "display_name": "Python",
   "language": "python",
   "name": "conda-env-python-py"
  },
  "language_info": {
   "codemirror_mode": {
    "name": "ipython",
    "version": 3
   },
   "file_extension": ".py",
   "mimetype": "text/x-python",
   "name": "python",
   "nbconvert_exporter": "python",
   "pygments_lexer": "ipython3",
   "version": "3.7.12"
  }
 },
 "nbformat": 4,
 "nbformat_minor": 5
}
